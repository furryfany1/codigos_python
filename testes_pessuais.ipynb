{
 "cells": [
  {
   "cell_type": "code",
   "execution_count": 23,
   "id": "a39df92f-f110-4630-b6e5-33a38e33381e",
   "metadata": {},
   "outputs": [
    {
     "name": "stdout",
     "output_type": "stream",
     "text": [
      "1 / 2 = 3 \n",
      " o resultado da sua divisao e 3\n"
     ]
    }
   ],
   "source": [
    "var2 = 1\n",
    "var3 = 2\n",
    "resultado = 3\n",
    "\n",
    "\n",
    "print(\"%a / %a = %a \\n o resultado da sua divisao e %a\" %(var2, var3, resultado, resultado))"
   ]
  },
  {
   "cell_type": "code",
   "execution_count": null,
   "id": "0ea8e2e2-c033-4c40-bdb9-ee886073a71c",
   "metadata": {},
   "outputs": [],
   "source": []
  }
 ],
 "metadata": {
  "kernelspec": {
   "display_name": "Python 3 (ipykernel)",
   "language": "python",
   "name": "python3"
  },
  "language_info": {
   "codemirror_mode": {
    "name": "ipython",
    "version": 3
   },
   "file_extension": ".py",
   "mimetype": "text/x-python",
   "name": "python",
   "nbconvert_exporter": "python",
   "pygments_lexer": "ipython3",
   "version": "3.12.4"
  }
 },
 "nbformat": 4,
 "nbformat_minor": 5
}
